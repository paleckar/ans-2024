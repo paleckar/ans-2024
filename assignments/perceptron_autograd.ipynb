{
 "cells": [
  {
   "cell_type": "markdown",
   "metadata": {},
   "source": [
    "# Dvouvrstvý perceptron s využitím autogradu"
   ]
  },
  {
   "cell_type": "markdown",
   "metadata": {},
   "source": [
    "- Úkolem cvičení je natrénovat opět **dvouvrstvý perceptron** pro klasifikaci obrázků na datasetu CIFAR-10, **tentokrát ovšem za použití modulu `ans.autograd` z minulého cvičení**.\n",
    "- Vytvoříme novou třídu `ans.classification.TwoLayerPerceptronAutograd`, která bude obsahovat pouze dopředný průchod. Zpětný průchod zajistí automaticky implementace `ans.autograd.Variable.backprop` implementovaná v minulém cvičení.\n",
    "- Vytvoříme rovněž nový modul `ans.nn`, do kterého budeme postupně přidávat funkcionalitu související s neuronovými sítěmi, abychom nemuseli neustále opakovat shodné bloky kódu.\n",
    "\n",
    "**Poznámka**\n",
    "- Tento notebook nezapíná [autoreload extension](https://ipython.org/ipython-doc/3/config/extensions/autoreload.html), protože testování využívá type checking pomocí `isinstance` a [to při reloadu modulu selhává](https://github.com/ipython/ipython/issues/12399).\n",
    "- Při každé modifikaci modulu `ans.autograd` je proto bohužel nutné notebook restartovat a spustit celý kód znovu (např. \"Run All\") 😟"
   ]
  },
  {
   "cell_type": "code",
   "execution_count": 1,
   "metadata": {},
   "outputs": [],
   "source": [
    "import sys\n",
    "sys.path.append('..')  # import tests\n",
    "\n",
    "import numpy as np\n",
    "import matplotlib.pyplot as plt\n",
    "import PIL\n",
    "import torch\n",
    "import torchvision\n",
    "import ans\n",
    "from tests import test_perceptron_autograd"
   ]
  },
  {
   "cell_type": "markdown",
   "metadata": {},
   "source": [
    "# Příprava diferencovatelných operací"
   ]
  },
  {
   "cell_type": "markdown",
   "metadata": {},
   "source": [
    "- Z minulého cvičení ma `Variable` implementované pouze operace `+`, `-`, `*` a `/`.\n",
    "- Pro vícevrstvý perceptron (viz cvičení [two_layer_perceptron](two_layer_perceptron.ipynb)) optimalizovaný softmax křížovou entropií budeme ještě potřebovat alespoň\n",
    "  - maticové násobení `@` pro vnitřní vrstvy perceptronu,\n",
    "  - nelinearitu `sigmoid`,\n",
    "  - `log`, `sum`, `exp` a `__getitem__` pro výpočet lossu."
   ]
  },
  {
   "cell_type": "markdown",
   "metadata": {},
   "source": [
    "## Maticové násobení `z = x @ y`"
   ]
  },
  {
   "cell_type": "markdown",
   "metadata": {},
   "source": [
    "- Budeme uvažovat pouze minimálně dvourozměrné tensory, tj. matice x matice a výše.\n",
    "\n",
    "**Dopředný průchod**\n",
    "\n",
    "$$\\boldsymbol{z} = \\boldsymbol{x} \\cdot \\boldsymbol{y}$$\n",
    "\n",
    "- $\\boldsymbol{x} = [x_{\\ldots,n,d}]$ je nejméně dvourozměrný tensor s rozměry $\\ldots \\times N \\times D$,\n",
    "- $\\boldsymbol{y} = [y_{\\ldots,d,k}]$ je nejméně dvourozměrný tensor s rozměry $\\ldots \\times D \\times K$,\n",
    "- $\\boldsymbol{z} = [z_{\\ldots,n,k}]$ je nejméně dvourozměrný tensor s rozměry $\\ldots \\times N \\times K$,\n",
    "\n",
    "**Zpětný průchod**\n",
    "\n",
    "$$\n",
    "\\begin{align*}\n",
    "    \\overline{\\boldsymbol{x}} &= \\overline{\\boldsymbol{z}} \\cdot \\boldsymbol{y}^\\top \\\\\n",
    "    \\overline{\\boldsymbol{y}} &= \\boldsymbol{x}^\\top \\cdot \\overline{\\boldsymbol{z}}\n",
    "\\end{align*}\n",
    "$$\n",
    "\n",
    "- transpozicí $\\boldsymbol{x}^\\top$ pro vícerozměrné tensory se myslí prohození posledních dvou dimenzí $\\ldots \\times N \\times D \\rightarrow \\ldots \\times D \\times N$\n",
    "\n",
    "**Bonus**\n",
    "\n",
    "- Zobecněte tak aby operátor `x @ y` fungoval i pro vektor (1D tensor) x matice a všechny ostatní kombinace podporované v PyTorchi."
   ]
  },
  {
   "cell_type": "markdown",
   "metadata": {},
   "source": [
    "### TODO: implementujte operátory [`ans.autograd.Variable.__matmul__`](../ans/autograd.py) a [`ans.autograd.Variable.__rmatmul__`](../ans/autograd.py)"
   ]
  },
  {
   "cell_type": "code",
   "execution_count": null,
   "metadata": {},
   "outputs": [],
   "source": [
    "test_perceptron_autograd.TestMatMul.eval()"
   ]
  },
  {
   "cell_type": "code",
   "execution_count": null,
   "metadata": {},
   "outputs": [],
   "source": [
    "test_perceptron_autograd.TestMatMulGeneral.eval()"
   ]
  },
  {
   "cell_type": "markdown",
   "metadata": {},
   "source": [
    "## Sigmoid `z = x.sigmoid()`"
   ]
  },
  {
   "cell_type": "markdown",
   "metadata": {},
   "source": [
    "**Dopředný průchod**\n",
    "\n",
    "$$z = \\frac{1}{1 + e^{-x}}$$\n",
    "- $x$ je reálné číslo (skalár)\n",
    "- $z$ je reálně číslo (skalár)\n",
    "\n",
    "**Zpětný průchod**\n",
    "\n",
    "Samostatně jako cvičení 😉"
   ]
  },
  {
   "cell_type": "markdown",
   "metadata": {},
   "source": [
    "### TODO: implementujte metodu [`ans.autograd.Variable.sigmoid`](../ans/autograd.py)"
   ]
  },
  {
   "cell_type": "code",
   "execution_count": null,
   "metadata": {},
   "outputs": [],
   "source": [
    "test_perceptron_autograd.TestSigmoid.eval()"
   ]
  },
  {
   "cell_type": "markdown",
   "metadata": {},
   "source": [
    "## Umocňování `z = x.exp()`"
   ]
  },
  {
   "cell_type": "markdown",
   "metadata": {},
   "source": [
    "**Dopředný průchod**\n",
    "\n",
    "$$\n",
    "z = e^{x}\n",
    "$$\n",
    "- $x$ je reálné číslo (skalár)\n",
    "- $z$ je reálně číslo (skalár)\n",
    "\n",
    "**Zpětný průchod**\n",
    "\n",
    "Samostatně jako cvičení 😉"
   ]
  },
  {
   "cell_type": "markdown",
   "metadata": {},
   "source": [
    "### TODO: implementujte metodu [`ans.autograd.Variable.exp`](../ans/autograd.py)"
   ]
  },
  {
   "cell_type": "code",
   "execution_count": null,
   "metadata": {},
   "outputs": [],
   "source": [
    "test_perceptron_autograd.TestExp.eval()"
   ]
  },
  {
   "cell_type": "markdown",
   "metadata": {},
   "source": [
    "## Přirozený logaritmus `z = x.log()`"
   ]
  },
  {
   "cell_type": "markdown",
   "metadata": {},
   "source": [
    "- Nutné pro výpočet křížové entropie, kde se loss počítá jako logaritmus z pravděpodobnosti predikované pro target třídu.\n",
    "\n",
    "**Dopředný průchod**\n",
    "\n",
    "$$\n",
    "z = \\ln x\n",
    "$$\n",
    "- $x$ je reálné číslo (skalár)\n",
    "- $z$ je reálně číslo (skalár)\n",
    "\n",
    "**Zpětný průchod**\n",
    "\n",
    "Samostatně jako cvičení 😉"
   ]
  },
  {
   "cell_type": "markdown",
   "metadata": {},
   "source": [
    "### TODO: implementujte metodu [`ans.autograd.Variable.log`](../ans/autograd.py)"
   ]
  },
  {
   "cell_type": "code",
   "execution_count": null,
   "metadata": {},
   "outputs": [],
   "source": [
    "test_perceptron_autograd.TestLog.eval()"
   ]
  },
  {
   "cell_type": "markdown",
   "metadata": {},
   "source": [
    "## Výběr prvku `z = x[indices]`"
   ]
  },
  {
   "cell_type": "markdown",
   "metadata": {},
   "source": [
    "- Nutné pro výpočet křížové entropie, kde se loss počítá jako $l = \\ln \\widehat{p}_y$, kde $\\widehat{p}_y$ je pravděpodobnost predikovaná modelem pro target třídu $y$.\n",
    "\n",
    "**Dopředný průchod**\n",
    "\n",
    "- Operace je implementovaná v PyTorch jako `z = x[ids]`, kde `ids` může být `int`, `tuple[int,...]`, `list[int,...]` nebo `torch.Tensor`.\n",
    "- Operaci si zjednodušíme a výběr omezíme na podmnožinu prvků `x`, kde se navíc nemůže opakovat výběr stejného prvku.\n",
    "- Příklad:\n",
    "  ``` python\n",
    "  x = torch.tensor([0.5, 0.6, 0.7])\n",
    "  z = x[[0]]  # z = torch.tensor([0.5]) ... ok\n",
    "  z = x[[0, 1]]  # z = torch.tensor([0.5, 0.6]) ... ok\n",
    "  z = x[[0, 0]]  # z = torch.tensor([0.5, 0.5]) ... validni v PyTorch, ale zde pro jednoduchost neuvazujeme (opakuje se prvek 0)\n",
    "  z = x[[False, True, True]]  # z = torch.tensor([0.6, 0.7]) ... ok\n",
    "  z = x[:2]  # z = torch.tensor([0.5, 0.6]) ... ok\n",
    "  ...\n",
    "  ```\n",
    "\n",
    "**Zpětný průchod**\n",
    "\n",
    "- Lokální gradient na *vybrané* prvky je jedna.\n",
    "- Lokální gradient na *nevybrané* prvky je nula."
   ]
  },
  {
   "cell_type": "code",
   "execution_count": null,
   "metadata": {},
   "outputs": [],
   "source": [
    "test_perceptron_autograd.TestGetItem.eval()"
   ]
  },
  {
   "cell_type": "markdown",
   "metadata": {},
   "source": [
    "## Součet prvků `z = x.sum(dim=..., keepdim=...)`"
   ]
  },
  {
   "cell_type": "markdown",
   "metadata": {},
   "source": [
    "- Nutné pro výpočet softmaxu, kdy potřebujeme součet přes pravděpodobnosti tříd.\n",
    "\n",
    "**Dopředný průchod**\n",
    "\n",
    "- Operace je implementovaná v PyTorch jako `z = x.sum(...)`\n",
    "- Podporované musí být oba parametry `dim` a `keepdim`, viz <https://pytorch.org/docs/stable/generated/torch.sum.html>\n",
    "\n",
    "**Zpětný průchod**\n",
    "\n",
    "- Lokální gradient na všechny prvky je jedna."
   ]
  },
  {
   "cell_type": "markdown",
   "metadata": {},
   "source": [
    "### TODO: implementujte metodu [`ans.autograd.Variable.sum`](../ans/autograd.py)"
   ]
  },
  {
   "cell_type": "code",
   "execution_count": null,
   "metadata": {},
   "outputs": [],
   "source": [
    "test_perceptron_autograd.TestSum.eval()"
   ]
  },
  {
   "cell_type": "markdown",
   "metadata": {},
   "source": [
    "## (Bonus) Průměr prvků `z = x.mean(dim=..., keepdim=...)`"
   ]
  },
  {
   "cell_type": "markdown",
   "metadata": {},
   "source": [
    "- Podobné jako `x.sum(...)`, pouze s průměrem namísto součtu."
   ]
  },
  {
   "cell_type": "markdown",
   "metadata": {},
   "source": [
    "### TODO: implementujte metodu [`ans.autograd.Variable.mean`](../ans/autograd.py)"
   ]
  },
  {
   "cell_type": "code",
   "execution_count": null,
   "metadata": {},
   "outputs": [],
   "source": [
    "test_perceptron_autograd.TestMean.eval()"
   ]
  },
  {
   "cell_type": "markdown",
   "metadata": {},
   "source": [
    "# Třída `TwoLayerPerceptronAutograd`"
   ]
  },
  {
   "cell_type": "markdown",
   "metadata": {},
   "source": [
    "- Cílem cvičení je natrénovat model dvouvrstvého perceptronu bez explicitního kódování zpětného průchodu, tj. s využitím autogradu.\n",
    "- Model bude imeplementovat třída `ans.classification.TwoLayerPerceptronAutograd`.\n",
    "- Parametry klasifikátoru budou reprezentovány jako `ans.autograd.Variable`, viz následující tabulku  \n",
    "  | atribut   | typ                     | značení                                                            | rozměr       |\n",
    "  |-----------|-------------------------|--------------------------------------------------------------------|--------------|\n",
    "  | `weight1` | `ans.autograd.Variable` | $\\boldsymbol{w}^{(1)} = \\left[w_{d,h}^{(1)}\\right]$                | $D \\times H$ |\n",
    "  | `bias1`   | `ans.autograd.Variable` | $\\boldsymbol{b}^{(1)} = \\left[b_1^{(1)}, \\ldots, b_H^{(1)}\\right]$ | $H$          |\n",
    "  | `weight2` | `ans.autograd.Variable` | $\\boldsymbol{w}^{(2)} = \\left[w_{d,k}^{(2)}\\right]$                | $H \\times K$ |\n",
    "  | `bias2`   | `ans.autograd.Variable` | $\\boldsymbol{b}^{(2)} = \\left[b_1^{(2)}, \\ldots, b_K^{(2)}\\right]$ | $K$          |\n",
    "- Třída bude obsahovat pouze kód pro dopředný průchod (průchod sítí a výpočet lossu).\n",
    "- Zpětný průchod bude volán jako\n",
    "  ``` python\n",
    "  # vynulovani gradientu\n",
    "  ...\n",
    "  # zpetna propagace\n",
    "  loss.backprop()\n",
    "  ```\n",
    "- Po jeho provedení budou vyplněny atributy `.grad` všechny parametrů modelu, což umožní update pomocí SGD.\n",
    "- **Důležité je před každým zpětným průchodem vynulovat gradienty parametrů, aby nedocházelo k jejich akumulaci přes různé dávky (minibatche)**, viz např. <https://stackoverflow.com/questions/48001598/why-do-we-need-to-call-zero-grad-in-pytorch>.\n",
    "\n",
    "**Funkce `softmax_cross_entropy`**\n",
    "- Výpočet lossu implementujte jako funkci `ans.classification.softmax_cross_entropy`, aby se nemusely opakovat stejné kusy kódu v `TwoLayerPerceptronAutograd.train_step` a `TwoLayerPerceptronAutograd.val_Step`.\n",
    "- Funkce by měla být agnostická vůči typu `logits` parametru:\n",
    "  - pokud je `torch.Tensor`, výsledný loss bude rovněž `torch.Tensor`,\n",
    "  - pokud je `Variable`, výsledný loss bude rovněž `Variable`."
   ]
  },
  {
   "cell_type": "markdown",
   "metadata": {},
   "source": [
    "### TODO: implementuje funkci [`ans.classification.softmax_cross_entropy`](../ans/classification.py)."
   ]
  },
  {
   "cell_type": "code",
   "execution_count": null,
   "metadata": {},
   "outputs": [],
   "source": [
    "test_perceptron_autograd.TestSoftmaxCrossEntropy.eval()"
   ]
  },
  {
   "cell_type": "markdown",
   "metadata": {},
   "source": [
    "### TODO: implementuje metodu [`ans.classification.TwoLayerPerceptronAutograd.__init__`](../ans/classification.py)."
   ]
  },
  {
   "cell_type": "code",
   "execution_count": null,
   "metadata": {},
   "outputs": [],
   "source": [
    "test_perceptron_autograd.TestInit.eval()"
   ]
  },
  {
   "cell_type": "markdown",
   "metadata": {},
   "source": [
    "### TODO: implementuje funkci [`ans.classification.TwoLayerPerceptronAutograd.train_step`](../ans/classification.py)."
   ]
  },
  {
   "cell_type": "code",
   "execution_count": null,
   "metadata": {},
   "outputs": [],
   "source": [
    "test_perceptron_autograd.TestTrainStep.eval()"
   ]
  },
  {
   "cell_type": "markdown",
   "metadata": {},
   "source": [
    "### TODO: implementuje funkci [`ans.classification.TwoLayerPerceptronAutograd.val_step`](../ans/classification.py)."
   ]
  },
  {
   "cell_type": "code",
   "execution_count": null,
   "metadata": {},
   "outputs": [],
   "source": [
    "test_perceptron_autograd.TestValStep.eval()"
   ]
  },
  {
   "cell_type": "markdown",
   "metadata": {},
   "source": [
    "## Preprocessing dat"
   ]
  },
  {
   "cell_type": "markdown",
   "metadata": {},
   "source": [
    "- Pro trénování bude potřeba opět ještě preprocessing dat, podobně jako v minulých cvičeních.\n",
    "- Použijeme shodný preprocessing jako ve cvičeních [linear_classification](linear_classification.ipynb) a [two_two_layer_perceptron](two_layer_perceptron.ipynb), tj. zploštení obrázků do vektorů a převod hodnot pixelů 0..255 do rozsahu 0..1 prostým vydělením 255."
   ]
  },
  {
   "cell_type": "markdown",
   "metadata": {},
   "source": [
    "### TODO: implementuje funkci `preprocess`."
   ]
  },
  {
   "cell_type": "code",
   "execution_count": 14,
   "metadata": {},
   "outputs": [],
   "source": [
    "def preprocess(img: PIL.Image) -> torch.Tensor:\n",
    "    \"\"\"\n",
    "    Args:\n",
    "        img: image of type PIL.Image\n",
    "    Returns:\n",
    "        x: 1-dimensional tensor; shape (num_pixels * num_channels,), dtype float32\n",
    "    \"\"\"\n",
    "    \n",
    "    ########################################\n",
    "    # TODO: implement\n",
    "    \n",
    "    raise NotImplementedError\n",
    "    \n",
    "    # ENDTODO\n",
    "    ########################################\n",
    "    \n",
    "    return x"
   ]
  },
  {
   "cell_type": "code",
   "execution_count": null,
   "metadata": {},
   "outputs": [],
   "source": [
    "test_perceptron_autograd.TestPreprocess.eval(preprocess_fn=preprocess)"
   ]
  },
  {
   "cell_type": "markdown",
   "metadata": {},
   "source": [
    "# Trénování klasifikátoru"
   ]
  },
  {
   "cell_type": "markdown",
   "metadata": {},
   "source": [
    "- Pokud inicializujete parametry ve stejném pořadí a shodným způsobem jako ve cvičení [two_two_layer_perceptron](two_layer_perceptron.ipynb) (a pouze \"obalíte\" do `Variable`), měli byste dostat naprosto stejná čísla včetně progressu lossu!\n",
    "- Nejlepší model uložte jako\n",
    "  ``` python\n",
    "  model.save('../output/two_layer_perceptron_autograd_weights.pt')\n",
    "  ```"
   ]
  },
  {
   "cell_type": "markdown",
   "metadata": {},
   "source": [
    "### TODO: Natrénujte dvouvrstvý perceptron tak, aby dosáhl alespoň 45 % (bonusově 50 %) *validační* accuracy."
   ]
  },
  {
   "cell_type": "code",
   "execution_count": null,
   "metadata": {},
   "outputs": [],
   "source": [
    "ans.utils.seed_everything(0)\n",
    "\n",
    "########################################\n",
    "# TODO: implement\n",
    "\n",
    "# ...\n",
    "# model = ans.classification.TwoLayerPerceptronAutograd(...)\n",
    "# ...\n",
    "\n",
    "raise NotImplementedError\n",
    "\n",
    "# ENDTODO\n",
    "########################################"
   ]
  },
  {
   "cell_type": "code",
   "execution_count": null,
   "metadata": {},
   "outputs": [],
   "source": [
    "test_perceptron_autograd.TestValAccuracy45.eval(preprocess_fn=preprocess)"
   ]
  },
  {
   "cell_type": "code",
   "execution_count": null,
   "metadata": {},
   "outputs": [],
   "source": [
    "test_perceptron_autograd.TestValAccuracy50.eval(preprocess_fn=preprocess)"
   ]
  }
 ],
 "metadata": {
  "kernelspec": {
   "display_name": "ans24",
   "language": "python",
   "name": "python3"
  },
  "language_info": {
   "codemirror_mode": {
    "name": "ipython",
    "version": 3
   },
   "file_extension": ".py",
   "mimetype": "text/x-python",
   "name": "python",
   "nbconvert_exporter": "python",
   "pygments_lexer": "ipython3",
   "version": "3.11.9"
  }
 },
 "nbformat": 4,
 "nbformat_minor": 2
}
