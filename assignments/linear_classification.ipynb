{
 "cells": [
  {
   "cell_type": "markdown",
   "id": "d58dc836-625a-4c0a-a840-b23c3ffef10e",
   "metadata": {},
   "source": [
    "# Lineární klasifikace obrázků CIFAR10"
   ]
  },
  {
   "cell_type": "markdown",
   "id": "57846d13-17c6-494d-a851-c88e2d363640",
   "metadata": {},
   "source": [
    "- Úkolem cvičení je naprogramovat lineární klasifikátor, který bude rozpoznávat objekty z datasetu CIFAR-10.\n",
    "- Vstupem je RGB obrázek o rozměrech 32×32 pixelů a úkolem říci, který z 10 možných objektů (tříd) je na něm zachycen.\n",
    "- Možnosti jsou tyto: letadlo, automobil, pták, kočka, jelen, pes, žába, kůň, loď, náklaďák.\n",
    "- Použijeme přitom **lineární model**, **softmax křížovou entropii** a **gradient descent**."
   ]
  },
  {
   "cell_type": "code",
   "execution_count": 1,
   "id": "9227fbaf-39c6-4679-bb72-575bc332d642",
   "metadata": {},
   "outputs": [],
   "source": [
    "%load_ext autoreload\n",
    "%autoreload 2"
   ]
  },
  {
   "cell_type": "code",
   "execution_count": 2,
   "id": "f3194cbd-6dbc-4fd8-811a-ab65733b8f8a",
   "metadata": {},
   "outputs": [],
   "source": [
    "import sys\n",
    "sys.path.append('..')  # import tests, ans\n",
    "\n",
    "import numpy as np\n",
    "import matplotlib.pyplot as plt\n",
    "import PIL\n",
    "import torch\n",
    "import torchvision\n",
    "\n",
    "import ans\n",
    "from tests import test_linear_classification"
   ]
  },
  {
   "cell_type": "markdown",
   "id": "f3ec2c26-00bc-4e8a-9004-0a0387acb180",
   "metadata": {},
   "source": [
    "# Data"
   ]
  },
  {
   "cell_type": "markdown",
   "id": "8e04b338",
   "metadata": {},
   "source": [
    "## Preprocessing"
   ]
  },
  {
   "cell_type": "markdown",
   "id": "5c02f7e7",
   "metadata": {},
   "source": [
    "- Data převedeme z `PIL.Image` do `torch.Tensor`.\n",
    "- Pro lepší numerické vlastnosti zároveň konvertujeme do rozsahu 0-1 a datového typu `torch.float32`, který je pro PyTorch výchozí. Stačí vydělit 255.\n",
    "- Zároveň obrázky přetvarujeme do vektoru, takže výstup bude mít rozměr (batch_size, počet_pixelů).\n",
    "- Targety pouze převedeme z `numpy.ndarray` do `torch.Tensor`.\n",
    "- Celé předzpracování bude implementovat funkce `preprocess`, kterou budeme později volat pro každou dávku po jejím načtení v `BatchLoader`u."
   ]
  },
  {
   "cell_type": "markdown",
   "id": "b10636b4",
   "metadata": {},
   "source": [
    "### TODO: implementuje funkci `preprocess`."
   ]
  },
  {
   "cell_type": "code",
   "execution_count": 3,
   "id": "f85d3541",
   "metadata": {},
   "outputs": [],
   "source": [
    "def preprocess(img: PIL.Image) -> torch.Tensor:\n",
    "    \"\"\"\n",
    "    Args:\n",
    "        img: image of type PIL.Image\n",
    "    Returns:\n",
    "        x: 1-dimensional tensor; shape (num_pixels * num_channels,), dtype float32\n",
    "    \"\"\"\n",
    "    \n",
    "    ########################################\n",
    "    # TODO: implement\n",
    "    \n",
    "    raise NotImplementedError\n",
    "    \n",
    "    # ENDTODO\n",
    "    ########################################\n",
    "    \n",
    "    return x"
   ]
  },
  {
   "cell_type": "code",
   "execution_count": null,
   "id": "9fe56bf2",
   "metadata": {},
   "outputs": [],
   "source": [
    "test_linear_classification.TestPreprocess.eval(preprocess_fn=preprocess)"
   ]
  },
  {
   "cell_type": "markdown",
   "id": "b840c2c5",
   "metadata": {},
   "source": [
    "## Trénovací a validační datasety"
   ]
  },
  {
   "cell_type": "code",
   "execution_count": null,
   "id": "c464e66e-b25f-4176-b075-795c328bfcb0",
   "metadata": {},
   "outputs": [],
   "source": [
    "train_dataset = torchvision.datasets.CIFAR10(root='../data', train=True, download=True, transform=preprocess)\n",
    "val_dataset = torchvision.datasets.CIFAR10(root='../data', train=False, download=True, transform=preprocess)"
   ]
  },
  {
   "cell_type": "code",
   "execution_count": null,
   "id": "6f67d0c5",
   "metadata": {},
   "outputs": [],
   "source": [
    "train_dataset[5]"
   ]
  },
  {
   "cell_type": "markdown",
   "id": "4b313d57-3df8-4fb7-8d60-5c4fe7d5a56e",
   "metadata": {},
   "source": [
    "## Načítání po dávkách"
   ]
  },
  {
   "cell_type": "markdown",
   "id": "9a27eb00-ebea-4010-a2cc-5eb2ee7d9536",
   "metadata": {},
   "source": [
    "- Načítání dat po dávkách bude zajišťovat třída `ans.data.BatchLoader`.\n",
    "- Třída implementuje metodu `__iter__` a je tedy možné ji použít jako zdroj např. pro `for` cyklus následujícím způsobem:\n",
    "  ``` python\n",
    "  train_loader = ans.data.BatchLoader(\n",
    "      dataset,  # napr. torchvision.datasets.CIFAR10\n",
    "      batch_size = 100,\n",
    "      shuffle = True,  # nahodne poradi\n",
    "  )\n",
    "  for inputs, targets in train_loader:\n",
    "      # inputs ... shape (100, 32, 32, 3)\n",
    "      # targets ... shape (100,)\n",
    "      ...\n",
    "  ```"
   ]
  },
  {
   "cell_type": "markdown",
   "id": "ed880d48-9042-4383-97a0-e88f911990e3",
   "metadata": {},
   "source": [
    "### TODO: implementujte metodu [`ans.data.BatchLoader.__iter__`](../ans/data.py)."
   ]
  },
  {
   "cell_type": "code",
   "execution_count": null,
   "id": "b900a6c3-908b-4b35-90e8-4e6b54df63d5",
   "metadata": {},
   "outputs": [],
   "source": [
    "train_loader = ans.data.BatchLoader(\n",
    "    train_dataset,\n",
    "    batch_size = 5,\n",
    "    shuffle = True,\n",
    ")\n",
    "train_loader"
   ]
  },
  {
   "cell_type": "code",
   "execution_count": null,
   "id": "e8e8985c-fce9-4b65-b2fd-d2ff7dafa506",
   "metadata": {},
   "outputs": [],
   "source": [
    "inputs, targets = next(iter(train_loader))\n",
    "print(type(inputs), inputs.shape, inputs.dtype, inputs.min(), inputs.max())\n",
    "print(type(targets), targets.shape, targets.dtype, targets.min(), targets.max())"
   ]
  },
  {
   "cell_type": "code",
   "execution_count": null,
   "id": "a3df89dc",
   "metadata": {},
   "outputs": [],
   "source": [
    "test_linear_classification.TestBatchLoader.eval()"
   ]
  },
  {
   "cell_type": "markdown",
   "id": "336171da-83e0-4ba9-b951-d9c260ca4896",
   "metadata": {},
   "source": [
    "# Lineární softmax klasifikátor"
   ]
  },
  {
   "cell_type": "markdown",
   "id": "1af0c796-c7bf-41e1-912c-a2cc69c4a820",
   "metadata": {},
   "source": [
    "- Lineární softmax klasifikátor optimalizuje křížovou entropii\n",
    "  $$\n",
    "  l_n = -\\log\\frac{\\exp{s_{n,y_n}}}{\\sum_{k=1}^{K}{\\exp{s_{n,k}}}}\n",
    "  $$\n",
    "  kde skóre $\\boldsymbol{s}_n$ jsou vypočteny jako lineární (afinní) funkce\n",
    "  $$\n",
    "  \\boldsymbol{s}_n = \\boldsymbol{x}_n \\cdot \\boldsymbol{w} + \\boldsymbol{b}\n",
    "  $$\n",
    "- Klasifikátor bude implementován jako třída [`ans.classification.LinearSoftmaxModel`](../ans/classification.py).\n",
    "- Třída obsahuje parametry klasifikátoru jako atributy  \n",
    "  | atribut  | značení                               | rozměr       |\n",
    "  |----------|---------------------------------------|--------------|\n",
    "  | `weight` | $\\boldsymbol{w} = [w_{d,k}]$          | $D \\times K$ |\n",
    "  | `bias`   | $\\boldsymbol{b} = [b_1, \\ldots, b_K]$ | $K$          |\n",
    "- Metoda `__init__` inicializuje váhovou matici a vektor biasů na náhodná čísla  \n",
    "  ``` python\n",
    "  def __init__(self, in_size, out_size, weight_scale=1e-3) -> None:\n",
    "    # self.weight = ...\n",
    "    # self.bias = ...\n",
    "  ```\n",
    "- Metoda `train_step` provede jeden krok učení (včetně updatu parametrů) na zadané (mini)dávce a vrátí vypočtený loss a predikované skóre  \n",
    "  ``` python\n",
    "  def train_step(self, inputs, targets, learning_rate=1e-3):\n",
    "    # predikce skore na davce\n",
    "    # vypocet lossu (softmax krizova entropie)\n",
    "    # vypocet gradientu\n",
    "    # update parametru metodou nejvetsiho spadu\n",
    "    # return loss, skore\n",
    "  ```\n",
    "- Metoda `val_step` provede pouze predikci (tedy bez updatu parametrů) na zadané (mini)dávce a vrátí vypočtený loss a predikované skóre  \n",
    "  ``` python\n",
    "  def val_step(self, inputs, targets, learning_rate=1e-3):\n",
    "    # predikce skore na davce\n",
    "    # vypocet lossu (softmax krizova entropie)\n",
    "    # return loss, skore\n",
    "  ```\n",
    "\n",
    "**Poznámky k `train_step`**\n",
    "\n",
    "- Data v tensorech jsou uložena *po řádcích*. Výpočet skóre je proto oproti přednášce *transponovaný*, tj.\n",
    "  $$\\boldsymbol{s}_n = \\boldsymbol{x}_n \\cdot \\boldsymbol{w} + \\boldsymbol{b}$$\n",
    "  kde\n",
    "  - $\\boldsymbol{s}_n = [s_{n,1},\\ldots,s_{n,K}]$ je *řádkový* vektor skóre pro $n$-tý vzorek (obrázek) $\\boldsymbol{x}_n$ a každou z $K$ tříd\n",
    "  - $\\boldsymbol{x}_n = [x_{n,1},\\ldots,x_{n,D}]$ je $n$-tý vzorek (obrázek) v dávce reprezentovaný jako (řádkový) vektor s rozměrem $D$.\n",
    "- Celkový loss pro dávku vypočtěte jako *průměr* dílčích lossů za jednotlivé obrázky\n",
    "  $$\n",
    "  l = \\frac{1}{N} \\cdot \\sum_{n=1}^{N}{l_n}\n",
    "  $$\n",
    "- Parametry updatujte základní metodou největšího spádu. Nepoužívejte momentum ani adaptivní metody."
   ]
  },
  {
   "cell_type": "markdown",
   "id": "4b993f12",
   "metadata": {},
   "source": [
    "### TODO: implementuje metodu [`ans.classification.LinearSoftmaxModel.__init__`](../ans/classification.py)."
   ]
  },
  {
   "cell_type": "code",
   "execution_count": null,
   "id": "0d200faf",
   "metadata": {},
   "outputs": [],
   "source": [
    "test_linear_classification.TestInit.eval()"
   ]
  },
  {
   "cell_type": "markdown",
   "id": "da29391a-11e7-4e73-8718-88f768347453",
   "metadata": {},
   "source": [
    "### TODO: implementuje funkci [`ans.classification.LinearSoftmaxModel.train_step`](../ans/classification.py)."
   ]
  },
  {
   "cell_type": "code",
   "execution_count": null,
   "id": "75c50d73-7e1c-4335-a255-29efa998761f",
   "metadata": {},
   "outputs": [],
   "source": [
    "test_linear_classification.TestTrainStepSoftmax.eval()"
   ]
  },
  {
   "cell_type": "markdown",
   "id": "6e02ebcf",
   "metadata": {},
   "source": [
    "### TODO: implementuje funkci [`ans.classification.LinearSoftmaxModel.val_step`](../ans/classification.py)."
   ]
  },
  {
   "cell_type": "code",
   "execution_count": null,
   "id": "1b928a28",
   "metadata": {},
   "outputs": [],
   "source": [
    "test_linear_classification.TestValStepSoftmax.eval()"
   ]
  },
  {
   "cell_type": "markdown",
   "id": "0bfbd2a0-d028-40df-a11c-3d81718df079",
   "metadata": {},
   "source": [
    "# Úspěšnost: accuracy"
   ]
  },
  {
   "cell_type": "markdown",
   "id": "0802201b-737f-4b80-8413-842c863364f9",
   "metadata": {},
   "source": [
    "- Kromě lossu budeme pro lepší orientaci měřit i přesnost (accuracy), byť tuto veličinu nebudeme přímo optimalizovat.\n",
    "- Accuracy (správnost) $a$ vypočteme jako\n",
    "  $$\n",
    "  a = \\frac{1}{N} \\cdot \\sum_{n=1}^{N}{\\mathbb{1}(\\hat{y}_n = y_n)}\n",
    "  $$"
   ]
  },
  {
   "cell_type": "markdown",
   "id": "4c01aff9-fdab-4a21-bac8-3278fbed47d2",
   "metadata": {},
   "source": [
    "### TODO: implementujte funkci [`ans.classification.accuracy`](../ans/classification.py)."
   ]
  },
  {
   "cell_type": "code",
   "execution_count": null,
   "id": "e86ce42d-db54-43fb-bc40-aa776d5b5137",
   "metadata": {},
   "outputs": [],
   "source": [
    "test_linear_classification.TestAccuracy.eval()"
   ]
  },
  {
   "cell_type": "markdown",
   "id": "a3a1d592",
   "metadata": {},
   "source": [
    "# Trénování klasifikátoru"
   ]
  },
  {
   "cell_type": "markdown",
   "id": "11ce3f6f",
   "metadata": {},
   "source": [
    "## Funkce `train_epoch`"
   ]
  },
  {
   "cell_type": "markdown",
   "id": "06c1e8fb",
   "metadata": {},
   "source": [
    "- Vytvořímě funkci `train_epoch`, která převezme model a dataloader a zavolá `train_step` modelu na včechny dávky v dataloaderu.  \n",
    "  Funkce musí umět převzít `learning_rate` a předat jí do volané `train_step`."
   ]
  },
  {
   "cell_type": "markdown",
   "id": "02d002ad",
   "metadata": {},
   "source": [
    "### TODO: implementujte funkci [`ans.classification.train_epoch`](../ans/classification.py)."
   ]
  },
  {
   "cell_type": "code",
   "execution_count": null,
   "id": "d77cc0c3",
   "metadata": {},
   "outputs": [],
   "source": [
    "test_linear_classification.TestTrainEpoch.eval()"
   ]
  },
  {
   "cell_type": "markdown",
   "id": "8e8900a3",
   "metadata": {},
   "source": [
    "## Funkce `validate`"
   ]
  },
  {
   "cell_type": "markdown",
   "id": "04cd81e0",
   "metadata": {},
   "source": [
    "- Analogicky k ní vytvoříme ještě druhou funkci `validate`, která provede pouze predikci modelu na dataloaderu a vrátí průměrný loss a accuracy."
   ]
  },
  {
   "cell_type": "markdown",
   "id": "a032aaa8",
   "metadata": {},
   "source": [
    "### TODO: implementujte funkci [`ans.classification.validate`](../ans/classification.py)."
   ]
  },
  {
   "cell_type": "code",
   "execution_count": null,
   "id": "14e289d1",
   "metadata": {},
   "outputs": [],
   "source": [
    "test_linear_classification.TestValidate.eval()"
   ]
  },
  {
   "cell_type": "markdown",
   "id": "c2a9be35",
   "metadata": {},
   "source": [
    "## Hlavní cyklus trénovaání"
   ]
  },
  {
   "cell_type": "markdown",
   "id": "e6753128",
   "metadata": {},
   "source": [
    "- Finálním úkolem je natrénovat lineární klasifikátor na co největší *validační* accuracy.\n",
    "- **Nejlepší natrénovaný model uložte do souboru  `output/linear_softmax_weights.pt`**.\n",
    "- Ukládejte pouze parametry `weights` a `bias`, tj. nikoliv celý objekt `LinearSoftmaxModel` a to následovně:\n",
    "  ``` python\n",
    "  torch.save(\n",
    "    dict(weight=model.weight, bias=model.bias),\n",
    "    '../output/linear_classification_softmax_weights.pt'\n",
    "  )\n",
    "  ```\n",
    "- Model se později načte a v rámci testů vyhodnotí na validační sadě CIFAR-10. Je proto nutné dodržet cesty i formát ukládání."
   ]
  },
  {
   "cell_type": "markdown",
   "id": "2dc5ac40",
   "metadata": {},
   "source": [
    "### TODO: Natrénujte lineární softmax klasifikátor tak, aby dosáhl alespoň 40 % *validační* accuracy."
   ]
  },
  {
   "cell_type": "code",
   "execution_count": null,
   "id": "566e4833-7041-4975-ab83-b03798609d62",
   "metadata": {
    "tags": []
   },
   "outputs": [],
   "source": [
    "ans.utils.seed_everything(0)\n",
    "\n",
    "# hyperparametry\n",
    "batch_size = ...\n",
    "learning_rate = ...\n",
    "num_epochs = ...\n",
    "\n",
    "# dataset\n",
    "train_dataset = torchvision.datasets.CIFAR10(root='../data', train=True, download=True, transform=preprocess)\n",
    "val_dataset = torchvision.datasets.CIFAR10(root='../data', train=False, download=True, transform=preprocess)\n",
    "\n",
    "# loadery\n",
    "train_loader = ans.data.BatchLoader(train_dataset, batch_size=batch_size, shuffle=True)\n",
    "val_loader = ans.data.BatchLoader(val_dataset, batch_size=batch_size, shuffle=False)\n",
    "\n",
    "# model\n",
    "model = ans.classification.LinearSoftmaxModel(...)\n",
    "\n",
    "# validace pred trenovanim (sanity check, loss by mel byt cca 2.30)\n",
    "train_loss, train_acc = ...\n",
    "val_loss, val_acc = ...\n",
    "print(f\"after init: train_loss={train_loss:.5f}, train_acc={train_acc:.3f}, val_loss={val_loss:.5f}, val_acc={val_acc:.3f}\")\n",
    "\n",
    "# optimalizace\n",
    "for epoch in range(num_epochs):\n",
    "    # trenovani\n",
    "    ...\n",
    "        \n",
    "    # validace\n",
    "    train_loss, train_acc = ...\n",
    "    val_loss, val_acc = ...\n",
    "    print(f\"epoch {epoch + 1}: train_loss={train_loss:.5f}, train_acc={train_acc:.3f}, val_loss={val_loss:.5f}, val_acc={val_acc:.3f}\")\n",
    "\n",
    "    # uloz nejlepsi model\n",
    "    ..."
   ]
  },
  {
   "cell_type": "code",
   "execution_count": null,
   "id": "1f190835",
   "metadata": {},
   "outputs": [],
   "source": [
    "test_linear_classification.TestSoftmaxValAccuracy.eval(preprocess_fn=preprocess)"
   ]
  },
  {
   "cell_type": "markdown",
   "id": "818ad58e-6aba-4a3d-a8e0-edd209f53a58",
   "metadata": {},
   "source": [
    "# Support Vector Machine (SVM)"
   ]
  },
  {
   "cell_type": "markdown",
   "id": "64ea2ae1-9bb8-4c96-be8c-6ed4bc47b0ad",
   "metadata": {},
   "source": [
    "- SVM je softmaxu velmi podobné. Z pohledu neuronových sítí se liší pouze způsobem výpočtu lossu.\n",
    "- Místo (softmax) cross entropy optimalizuje hinge loss\n",
    "  $$l_n = \\sum_{c\\ne y_n}\\max(0, 1 + s_{n,c} - s_{n,y_n})$$\n",
    "  kde:\n",
    "  - $y_n \\in \\{1, \\ldots, C\\}$ je správný index třídy (celé číslo) na vzorku (obrázku) $\\boldsymbol{x}_n$\n",
    "  - $s_{n,i}$ je skóre (logity) predikované lineárním klasifikátorem pro $n$-tý obrázek a $i$-tou třídu.\n",
    "- Gradient na $c$-tý sloupec $\\boldsymbol{w}_{:,c}$ váhové matice $\\boldsymbol{w}$ pak je\n",
    "  $$\n",
    "  \\frac{\\partial l_n}{\\partial \\boldsymbol{w}_{:,c}} = \\begin{cases}\n",
    "      -\\sum_{c\\ne y_n}\\mathbb{1}(1 + s_{n,c} - s_{n,y_n} > 0)\\cdot\\boldsymbol{x}_n & \\textrm{pokud} & c = y_n \\\\\n",
    "      \\mathbb{1}(1 + s_{n,c} - s_{n,y_n} > 0) \\cdot \\boldsymbol{x}_n & \\textrm{pokud} & c \\ne y_n\n",
    "  \\end{cases}\n",
    "  $$\n",
    "  kde\n",
    "  - $\\mathbb{1}(\\cdot) = 1$, pokud podmínka $\\cdot$ je splněna, jinak $\\mathbb{1}(\\cdot) = 0$\n",
    "- Gradient na bias je\n",
    "  $$\n",
    "  \\frac{\\partial l_n}{\\partial b_c} = \\begin{cases}\n",
    "      -\\sum_{c\\ne y_n}\\mathbb{1}(1 + s_{n,c} - s_{n,y_n} > 0) & \\textrm{pokud} & c = y_n \\\\\n",
    "      \\mathbb{1}(1 + s_{n,c} - s_{n,y_n} > 0) & \\textrm{pokud} & c \\ne y_n\n",
    "  \\end{cases}\n",
    "  $$"
   ]
  },
  {
   "cell_type": "markdown",
   "id": "0a78fbcf",
   "metadata": {},
   "source": [
    "### TODO: implementuje funkci [`ans.classification.LinearSVMModel.train_step`](../ans/classification.py)."
   ]
  },
  {
   "cell_type": "code",
   "execution_count": null,
   "id": "454381df",
   "metadata": {},
   "outputs": [],
   "source": [
    "test_linear_classification.TestTrainStepSVM.eval()"
   ]
  },
  {
   "cell_type": "markdown",
   "id": "a3326e58",
   "metadata": {},
   "source": [
    "### TODO: implementuje funkci [`ans.classification.LinearSVMModel.val_step`](../ans/classification.py)."
   ]
  },
  {
   "cell_type": "code",
   "execution_count": null,
   "id": "a4fce7f1",
   "metadata": {},
   "outputs": [],
   "source": [
    "test_linear_classification.TestValStepSVM.eval()"
   ]
  },
  {
   "cell_type": "markdown",
   "id": "9920a14a",
   "metadata": {},
   "source": [
    "## Hlavní cyklus trénování"
   ]
  },
  {
   "cell_type": "markdown",
   "id": "236d3754",
   "metadata": {},
   "source": [
    "- Nejlepší model uložte jako\n",
    "  ``` python\n",
    "  torch.save(\n",
    "    dict(weight=model.weight, bias=model.bias),\n",
    "    '../output/linear_classification_svm_weights.pt'\n",
    "  )\n",
    "  ```"
   ]
  },
  {
   "cell_type": "markdown",
   "id": "6e1d409d",
   "metadata": {},
   "source": [
    "### TODO: Natrénujte lineární SVM klasifikátor tak, aby dosáhl alespoň 39 % *validační* accuracy."
   ]
  },
  {
   "cell_type": "code",
   "execution_count": null,
   "id": "3a84bdda-662e-49da-949f-df2c20f1caf2",
   "metadata": {},
   "outputs": [],
   "source": [
    "ans.utils.seed_everything(0)\n",
    "\n",
    "# hyperparametry\n",
    "batch_size = ...\n",
    "learning_rate = ...\n",
    "num_epochs = ...\n",
    "\n",
    "# dataset\n",
    "train_dataset = torchvision.datasets.CIFAR10(root='../data', train=True, transform=preprocess)\n",
    "val_dataset = torchvision.datasets.CIFAR10(root='../data', train=False, transform=preprocess)\n",
    "\n",
    "# loadery\n",
    "train_loader = ans.data.BatchLoader(train_dataset, batch_size=batch_size, shuffle=True)\n",
    "val_loader = ans.data.BatchLoader(val_dataset, batch_size=batch_size, shuffle=False)\n",
    "\n",
    "# model\n",
    "model = ans.classification.LinearSVMModel(...)\n",
    "\n",
    "# validace pred trenovanim (sanity check, loss by mel byt cca 9)\n",
    "train_loss, train_acc = ...\n",
    "val_loss, val_acc = ...\n",
    "print(f\"after init: train_loss={train_loss:.5f}, train_acc={train_acc:.3f}, val_loss={val_loss:.5f}, val_acc={val_acc:.3f}\")\n",
    "\n",
    "# optimalizace\n",
    "for epoch in range(num_epochs):\n",
    "    # trenovani\n",
    "    ...\n",
    "    \n",
    "    # validace\n",
    "    train_loss, train_acc = ...\n",
    "    val_loss, val_acc = ...\n",
    "    print(f\"epoch {epoch + 1}: train_loss={train_loss:.5f}, train_acc={train_acc:.3f}, val_loss={val_loss:.5f}, val_acc={val_acc:.3f}\")\n",
    "\n",
    "    # uloz nejlepsi model\n",
    "    ..."
   ]
  },
  {
   "cell_type": "code",
   "execution_count": null,
   "id": "e250cac9",
   "metadata": {},
   "outputs": [],
   "source": [
    "test_linear_classification.TestSVMValAccuracy.eval(preprocess_fn=preprocess)"
   ]
  }
 ],
 "metadata": {
  "kernelspec": {
   "display_name": "ans24",
   "language": "python",
   "name": "python3"
  },
  "language_info": {
   "codemirror_mode": {
    "name": "ipython",
    "version": 3
   },
   "file_extension": ".py",
   "mimetype": "text/x-python",
   "name": "python",
   "nbconvert_exporter": "python",
   "pygments_lexer": "ipython3",
   "version": "3.11.9"
  },
  "toc-showtags": false
 },
 "nbformat": 4,
 "nbformat_minor": 5
}
