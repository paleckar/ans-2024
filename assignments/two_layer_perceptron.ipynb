{
 "cells": [
  {
   "cell_type": "markdown",
   "metadata": {},
   "source": [
    "# Dvouvrstvý perceptron pro obrázků CIFAR10"
   ]
  },
  {
   "cell_type": "markdown",
   "metadata": {},
   "source": [
    "- Úkolem cvičení je naprogramovat **dvouvrstvý perceptron** pro klasifikaci obrázků na datasetu CIFAR-10.\n",
    "- Jediný rozdíl oproti minulému cvičení, kde jsme trénovali lineární model, je tedy použitý klasifikátor."
   ]
  },
  {
   "cell_type": "code",
   "execution_count": null,
   "metadata": {},
   "outputs": [],
   "source": [
    "%load_ext autoreload\n",
    "%autoreload 2"
   ]
  },
  {
   "cell_type": "code",
   "execution_count": null,
   "metadata": {},
   "outputs": [],
   "source": [
    "import sys\n",
    "sys.path.append('..')  # import tests, ans\n",
    "\n",
    "import numpy as np\n",
    "import matplotlib.pyplot as plt\n",
    "import PIL\n",
    "import torch\n",
    "\n",
    "import ans\n",
    "from tests import test_two_layer_perceptron"
   ]
  },
  {
   "cell_type": "markdown",
   "metadata": {},
   "source": [
    "# Data"
   ]
  },
  {
   "cell_type": "markdown",
   "metadata": {},
   "source": [
    "## Preprocessing"
   ]
  },
  {
   "cell_type": "markdown",
   "metadata": {},
   "source": [
    "- Preprocessing dat provedeme shodně s úlohou [`linear_classification`](linear_classification.ipynb)."
   ]
  },
  {
   "cell_type": "markdown",
   "metadata": {},
   "source": [
    "### TODO: implementuje funkci `preprocess`."
   ]
  },
  {
   "cell_type": "code",
   "execution_count": null,
   "metadata": {},
   "outputs": [],
   "source": [
    "def preprocess(img: PIL.Image) -> torch.Tensor:\n",
    "    \"\"\"\n",
    "    Args:\n",
    "        img: image of type PIL.Image\n",
    "    Returns:\n",
    "        x: 1-dimensional tensor; shape (num_pixels * num_channels,), dtype float32\n",
    "    \"\"\"\n",
    "    \n",
    "    ########################################\n",
    "    # TODO: implement\n",
    "    \n",
    "    raise NotImplementedError\n",
    "    \n",
    "    # ENDTODO\n",
    "    ########################################\n",
    "    \n",
    "    return x"
   ]
  },
  {
   "cell_type": "code",
   "execution_count": null,
   "metadata": {},
   "outputs": [],
   "source": [
    "test_two_layer_perceptron.TestPreprocess.eval(preprocess_fn=preprocess)"
   ]
  },
  {
   "cell_type": "markdown",
   "metadata": {},
   "source": [
    "# Dvouvrstvý perceptron"
   ]
  },
  {
   "cell_type": "markdown",
   "metadata": {},
   "source": [
    "- Model bude optimalizovat křížovou entropii\n",
    "  $$\n",
    "  l_n = -\\log\\frac{\\exp{s_{n,y_n}}}{\\sum_{k=1}^{K}{\\exp{s_{n,k}}}}\n",
    "  $$\n",
    "  kde skóre $\\boldsymbol{s}_n$ bude výsledek dopředného průchodu dvouvrstvého perceptronu se sigmoidou $\\sigma(\\cdot)$ jako aktivační funkcí\n",
    "  $$\n",
    "  \\begin{align*}\n",
    "  \\boldsymbol{r}_n &= \\boldsymbol{x}_n \\cdot \\boldsymbol{w}^{(1)} + \\boldsymbol{b}^{(1)} \\\\\n",
    "  \\boldsymbol{h}_n &= \\sigma(\\boldsymbol{r}_n) \\\\\n",
    "  \\boldsymbol{s}_n &= \\boldsymbol{x}_n \\cdot \\boldsymbol{w}^{(2)} + \\boldsymbol{b}^{(2)} \\\\\n",
    "  \\end{align*}\n",
    "  $$\n",
    "- Klasifikátor bude implementován jako třída [`ans.classification.TwoLayerPerceptron`](../ans/classification.py).\n",
    "- Třída obsahuje parametry klasifikátoru jako atributy\n",
    "  | atribut   | značení                                                            | rozměr       |\n",
    "  | --------- | ------------------------------------------------------------------ | ------------ |\n",
    "  | `weight1` | $\\boldsymbol{w}^{(1)} = \\left[w_{d,k}^{(1)}\\right]$                | $D \\times H$ |\n",
    "  | `bias1`   | $\\boldsymbol{b}^{(1)} = \\left[b_1^{(1)}, \\ldots, b_H^{(1)}\\right]$ | $H$          |\n",
    "  | `weight2` | $\\boldsymbol{w}^{(2)} = \\left[w_{d,k}^{(2)}\\right]$                | $H \\times K$ |\n",
    "  | `bias2`   | $\\boldsymbol{b}^{(2)} = \\left[b_1^{(2)}, \\ldots, b_K^{(2)}\\right]$ | $K$          |\n",
    "- Třída bude mít shodné tři metody `__init__`, `train_step` a `val_step` jako `ans.classification.LinearSoftmaxModel`.\n",
    "- Rozdílem bude pouze jejich vnitřní implementace."
   ]
  },
  {
   "cell_type": "markdown",
   "metadata": {},
   "source": [
    "### TODO: implementuje metodu [`ans.classification.TwoLayerPerceptron.__init__`](../ans/classification.py)."
   ]
  },
  {
   "cell_type": "code",
   "execution_count": null,
   "metadata": {},
   "outputs": [],
   "source": [
    "test_two_layer_perceptron.TestInit.eval()"
   ]
  },
  {
   "cell_type": "markdown",
   "metadata": {},
   "source": [
    "### TODO: implementuje funkci [`ans.classification.TwoLayerPerceptron.train_step`](../ans/classification.py)."
   ]
  },
  {
   "cell_type": "code",
   "execution_count": null,
   "metadata": {},
   "outputs": [],
   "source": [
    "test_two_layer_perceptron.TestTrainStep.eval()"
   ]
  },
  {
   "cell_type": "markdown",
   "metadata": {},
   "source": [
    "### TODO: implementuje funkci [`ans.classification.TwoLayerPerceptron.val_step`](../ans/classification.py)."
   ]
  },
  {
   "cell_type": "code",
   "execution_count": null,
   "metadata": {},
   "outputs": [],
   "source": [
    "test_two_layer_perceptron.TestValStep.eval()"
   ]
  },
  {
   "cell_type": "markdown",
   "metadata": {},
   "source": [
    "# Trénování klasifikátoru"
   ]
  },
  {
   "cell_type": "markdown",
   "metadata": {},
   "source": [
    "- Nejlepší model uložte jako\n",
    "  ``` python\n",
    "  model.save('../output/two_layer_perceptron_weights.pt')\n",
    "  ```"
   ]
  },
  {
   "cell_type": "markdown",
   "metadata": {},
   "source": [
    "### TODO: Natrénujte dvouvrstvý perceptron tak, aby dosáhl alespoň 45 % (bonusově 50%) *validační* accuracy."
   ]
  },
  {
   "cell_type": "code",
   "execution_count": null,
   "metadata": {},
   "outputs": [],
   "source": [
    "ans.utils.seed_everything(0)\n",
    "\n",
    "########################################\n",
    "# TODO: implement\n",
    "\n",
    "raise NotImplementedError\n",
    "\n",
    "# ENDTODO\n",
    "########################################"
   ]
  },
  {
   "cell_type": "code",
   "execution_count": null,
   "metadata": {},
   "outputs": [],
   "source": [
    "test_two_layer_perceptron.TestValAccuracy45.eval(preprocess_fn=preprocess)"
   ]
  },
  {
   "cell_type": "code",
   "execution_count": null,
   "metadata": {},
   "outputs": [],
   "source": [
    "test_two_layer_perceptron.TestValAccuracy50.eval(preprocess_fn=preprocess)"
   ]
  }
 ],
 "metadata": {
  "kernelspec": {
   "display_name": "ans24",
   "language": "python",
   "name": "python3"
  },
  "language_info": {
   "codemirror_mode": {
    "name": "ipython",
    "version": 3
   },
   "file_extension": ".py",
   "mimetype": "text/x-python",
   "name": "python",
   "nbconvert_exporter": "python",
   "pygments_lexer": "ipython3",
   "version": "3.11.9"
  }
 },
 "nbformat": 4,
 "nbformat_minor": 2
}
