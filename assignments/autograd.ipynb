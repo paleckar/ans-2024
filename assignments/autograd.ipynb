{
 "cells": [
  {
   "cell_type": "markdown",
   "id": "f688f9ac-ebc1-475c-a278-5e7242b99802",
   "metadata": {},
   "source": [
    "# Automatické derivování (autograd)"
   ]
  },
  {
   "cell_type": "markdown",
   "id": "21f9aabd-6fd0-4329-9239-0ec347de0db9",
   "metadata": {},
   "source": [
    "- Úkolem cvičení je naprogramovat algoritmus zpětné propagace pro obecný případ obdobným způsobem, jako je navržen v knihovně PyTorch.\n",
    "- Implementujeme třídu `ans.autograd.Variable`, která bude imitovat návrh PyTorche až do verze [0.4.0](https://pytorch.org/blog/pytorch-0_4_0-migration-guide/), kdy došlo ke sloučení tříd `torch.autograd.Variable` a `torch.Tensor`.\n",
    "\n",
    "**Poznámka**\n",
    "- Tento notebook nezapíná [autoreload extension](https://ipython.org/ipython-doc/3/config/extensions/autoreload.html), protože testování využívá type checking pomocí `isinstance` a [to při reloadu modulu selhává](https://github.com/ipython/ipython/issues/12399).\n",
    "- Při každé modifikaci modulu `ans.autograd` je proto bohužel nutné notebook restartovat 😟"
   ]
  },
  {
   "cell_type": "code",
   "execution_count": 1,
   "id": "3375f030-c696-4b7d-a808-5ab895104166",
   "metadata": {},
   "outputs": [],
   "source": [
    "import sys\n",
    "sys.path.append('..')  # import tests\n",
    "\n",
    "import torch\n",
    "\n",
    "import ans\n",
    "from tests import test_autograd"
   ]
  },
  {
   "cell_type": "markdown",
   "id": "00593cd2-734e-4f04-b5b9-45418f6f0b40",
   "metadata": {},
   "source": [
    "# Třída `Variable`"
   ]
  },
  {
   "cell_type": "markdown",
   "id": "c656207b-bedb-481d-bcb9-29f9220e4008",
   "metadata": {},
   "source": [
    "- Třída `Variable` se bude chovat podobně jako `torch.Tensor` či `numpy.ndarray`, bude ovšem navíc obalená informacemi o výpočetním grafu.\n",
    "- Třída `Variable` obsahuje atributy\n",
    "  \n",
    "  | atribut   | typ                                                  | role                                                            |\n",
    "  |-----------|------------------------------------------------------|-----------------------------------------------------------------|\n",
    "  | `data`    | `torch.Tensor`                                       | drží hodnotu proměnné                                           |\n",
    "  | `grad`    | `torch.Tensor`                                       | obsahuje gradient na proměnnou                                  |\n",
    "  | `parents` | `tuple[Variable, ...]`                               | odkazuje na přímé předky proměnné                               |\n",
    "  | `grad_fn` | `Callable[[torch.Tensor], tuple[torch.Tensor, ...]]` | odkazuje na zpětný průchod operace, jejíž výsledkem proměnná je |\n",
    "\n",
    "- Kostra třídy `Variable` je již připravená a lze vytvořit její instance.\n",
    "- Vytvořme dvě proměnné `f` a `g`."
   ]
  },
  {
   "cell_type": "code",
   "execution_count": null,
   "id": "4c288925-d324-4477-a107-91e69acc8402",
   "metadata": {},
   "outputs": [],
   "source": [
    "f = ans.autograd.Variable(torch.tensor(2.))\n",
    "f"
   ]
  },
  {
   "cell_type": "code",
   "execution_count": null,
   "id": "7088fa95-d052-4deb-b68c-4498fa399a90",
   "metadata": {},
   "outputs": [],
   "source": [
    "g = ans.autograd.Variable(torch.tensor(3.))\n",
    "g"
   ]
  },
  {
   "cell_type": "markdown",
   "id": "36d2ddb8-2aa0-4a55-92a1-50f7604662e6",
   "metadata": {},
   "source": [
    "# Operace sčítání nad objekty typu `Variable`"
   ]
  },
  {
   "cell_type": "markdown",
   "id": "f7c0b196-a2b3-4055-a6d1-2ffd32477b75",
   "metadata": {},
   "source": [
    "- Nyní bychom chtěli, abychom mohli proměnné `f` a `g` např. sčítat jako\n",
    "  ``` python\n",
    "  h = f + g\n",
    "  ```\n",
    "- Výsledná proměnná `h` by měla být také typu `Variable` a její atributy by měly být\n",
    "  \n",
    "  | atribut   | hodnota                       | komentář                                                                                   |\n",
    "  |-----------|-------------------------------|--------------------------------------------------------------------------------------------|\n",
    "  | `data`    | `torch.tensor(5.)`            | 2 + 3 = 5                                                                                  |\n",
    "  | `grad`    | `None`                        | ještě neproběhla zpětná propagace                                                          |\n",
    "  | `parents` | `(f, g)`                      | `h` je potomkem `f` a `g`                                                                  |\n",
    "  | `grad_fn` | `<function add_backward ...>` | funkce, která provede zpětný průchod operace sčítání v případě, že zavoláme `h.backward()` |\n",
    "\n",
    "- V Pythonu lze násobení pro uživatelsky definovanou třídu definovat pomocí magické metody `__add__`, např.\n",
    "  ``` python\n",
    "  def __add__(self, other: Self) -> Self:\n",
    "      def grad_fn(dout: torch.Tensor) -> tuple[torch.Tensor, torch.Tensor]:\n",
    "          return dout.clone(), dout.clone()\n",
    "      return self.__class__(\n",
    "          self.data + other.data,\n",
    "          parents = (self, other),\n",
    "          grad_fn = grad_fn\n",
    "      )\n",
    "  ```"
   ]
  },
  {
   "cell_type": "markdown",
   "id": "1c79ba51-18cf-48e9-95f7-f9f5226f150e",
   "metadata": {},
   "source": [
    "### TODO: implementujte metodu [`ans.autograd.Variable.__add__`](../ans/autograd.py) (prozatím pouze skaláry)\n",
    "\n",
    "(stačí pouze zkopírovat kód)"
   ]
  },
  {
   "cell_type": "code",
   "execution_count": null,
   "id": "61225bcd",
   "metadata": {},
   "outputs": [],
   "source": [
    "h = f + g\n",
    "h"
   ]
  },
  {
   "cell_type": "code",
   "execution_count": null,
   "id": "3e015f53-6897-4fce-ae75-05e01baccf61",
   "metadata": {},
   "outputs": [],
   "source": [
    "print(h.data)  # tensor(5.)\n",
    "print(h.parents[0] is f)  # True\n",
    "print(h.parents[1] is g)  # True\n",
    "print(h.grad_fn)  # <function ...> s jednim parametrem (prichozim gradientem)"
   ]
  },
  {
   "cell_type": "markdown",
   "id": "b91e9443",
   "metadata": {},
   "source": [
    "- `grad_fn` je funkce zpětného průchodu sčítání, kterou můžeme zavolat s příchozím gradientem.\n",
    "- Měli bychom dostat gradienty na vstupy (předky `h`)."
   ]
  },
  {
   "cell_type": "code",
   "execution_count": null,
   "id": "34aa9880",
   "metadata": {},
   "outputs": [],
   "source": [
    "df, dg = h.grad_fn(torch.tensor(1.))  # prichozi gradient dh/dh = 1.0\n",
    "print(df)  # tensor(1.) ... df znamena dh/df\n",
    "print(dg)  # tensor(1.) ... dg znamena dh/dg"
   ]
  },
  {
   "cell_type": "code",
   "execution_count": null,
   "id": "5a8abea5",
   "metadata": {},
   "outputs": [],
   "source": [
    "test_autograd.TestAddScalars.eval()"
   ]
  },
  {
   "cell_type": "markdown",
   "id": "69414d4f-2a1b-4d9f-8262-6107198254af",
   "metadata": {},
   "source": [
    "# Odečítání `Variable`"
   ]
  },
  {
   "cell_type": "markdown",
   "id": "5905e0cd-7595-4f6b-92fe-e79881aa2550",
   "metadata": {},
   "source": [
    "- Obdobně můžeme definovat i operaci odečítání.\n",
    "- Rozdíl bude pouze ve výpočtu `data` a gradient na druhý operand by měl být přenásoben minus jedničkou (`-dout`)."
   ]
  },
  {
   "cell_type": "markdown",
   "id": "1fc3e50a",
   "metadata": {},
   "source": [
    "### TODO: implementujte metodu [`ans.autograd.Variable.__sub__`](../ans/autograd.py) (prozatím pouze skaláry)"
   ]
  },
  {
   "cell_type": "code",
   "execution_count": null,
   "id": "6bae95f7-b769-4092-af60-b20d50ac2d49",
   "metadata": {},
   "outputs": [],
   "source": [
    "test_autograd.TestSubScalars.eval()"
   ]
  },
  {
   "cell_type": "markdown",
   "id": "1e0913eb-de4d-4454-94b3-8f77dec28c48",
   "metadata": {},
   "source": [
    "# Násobení `Variable`"
   ]
  },
  {
   "cell_type": "markdown",
   "id": "0207a8fb-be37-4cc9-ac91-3d053ce7a04b",
   "metadata": {
    "tags": []
   },
   "source": [
    "- Ješte jednou pro násobení `h = f * g`."
   ]
  },
  {
   "cell_type": "markdown",
   "id": "5e61e1cc",
   "metadata": {},
   "source": [
    "### TODO: implementujte metodu [`ans.autograd.Variable.__mul__`](../ans/autograd.py) (prozatím pouze skaláry)"
   ]
  },
  {
   "cell_type": "code",
   "execution_count": null,
   "id": "a44f8c7d-56ab-4acb-85e3-fc2e602988ff",
   "metadata": {},
   "outputs": [],
   "source": [
    "test_autograd.TestMulScalars.eval()"
   ]
  },
  {
   "cell_type": "markdown",
   "id": "61669a08",
   "metadata": {},
   "source": [
    "# Dělení `Variable`"
   ]
  },
  {
   "cell_type": "markdown",
   "id": "8bd1c56e",
   "metadata": {},
   "source": [
    "- A také  pro dělení `h = f / g`."
   ]
  },
  {
   "cell_type": "markdown",
   "id": "40c2d541",
   "metadata": {},
   "source": [
    "### TODO: implementujte metodu [`ans.autograd.Variable.__truediv__`](../ans/autograd.py) (prozatím pouze skaláry)"
   ]
  },
  {
   "cell_type": "code",
   "execution_count": null,
   "id": "2957c54a",
   "metadata": {},
   "outputs": [],
   "source": [
    "test_autograd.TestDivScalars.eval()"
   ]
  },
  {
   "cell_type": "markdown",
   "id": "3c668009",
   "metadata": {},
   "source": [
    "# Operace nad tensory a built-in typy a podpora broadcastingu"
   ]
  },
  {
   "cell_type": "markdown",
   "id": "612ce85f",
   "metadata": {},
   "source": [
    "Takto navržen bude kód fungovat jen v ideálních případech. Existují následující případy, kdy pravděpodobně selže.\n",
    "\n",
    "1. **`Variable` * `float`**\n",
    "- První případ, kdy se kód rozbije, je pokud argument `other` není `Variable`.\n",
    "- Jedná se přitom o zcela očekávatelný use case.\n",
    "- Příklad:\n",
    "  ``` python\n",
    "  v = ans.autograd.Variable(torch.tensor(2.))\n",
    "  v * 3  # `AttributeError: 'int' object has no attribute 'data'`\n",
    "  ```\n",
    "\n",
    "2. **`float` * `Variable`**\n",
    "- Násobení, kde první z operandů není `Variable`, pokrývá operátor `__rmul__`, nikoliv `__mul__`.\n",
    "- Je proto nutné doplnit implementaci operátorů s `Variable` *na pravé straně*, tj. u `__rmul__`, `__radd__`, `__rsub__` a `__rtruediv__`.\n",
    "- Příklad:\n",
    "  ``` python\n",
    "  v = ans.autograd.Variable(torch.tensor(2.))\n",
    "  3 * v  #  NotImplementedError / TypeError: unsupported operand type(s) for *: 'float' and 'Variable'\n",
    "  ```\n",
    "\n",
    "3. **Broadcasting**\n",
    "- Druhý případ může být, že `self.data` a `other.data` nebudou mít stejný rozměr, přitom ale budou [\"broadcastable\"](https://pytorch.org/docs/stable/notes/broadcasting.html).\n",
    "- Jde tedy např. o vektor + skalár, matice + skalár, matice + vektor apod.\n",
    "- Pokud dopředný průchod provádí broadcasting, je nutné ve zpětném průchodu gradient přes nadbytečné dimenze *sečíst*, aby výsledný gradient měl rozměr shodný s odpovídající proměnnou.\n",
    "- Příklad:\n",
    "  ``` python\n",
    "  u = ans.autograd.Variable(torch.tensor([2., 3.]))  # (1, 2)\n",
    "  v = ans.autograd.Variable(torch.tensor(3.))  # ()\n",
    "  w = u * v  # (1, 2)\n",
    "  du, dv = w.grad_fn()  # pokud dv = tensor([2., 3.]), neni to spravny vysledek, spravne je dv = tensor(5.0)\n",
    "  ```\n",
    "\n",
    "4. **`dtype` a `device`**\n",
    "- Spíše okrajový případ je použití `dtype` jiného než `float32` a `device` jiné než `'cpu'`.\n",
    "- Implementace by měla tyto parametry respektovat a neměla by přetypovávat ani přesouvat tensory na jiná `device`.\n",
    "- Gradient by měl být rovněž vždy stejného typu a tvaru jako odpovídající `Variable`.\n",
    "\n",
    "**Úkolem je nyní upravit a doplnit implementaci `Variable` tak, aby podporovala všechny popsané případy**.\n",
    "\n",
    "*Poznámky:*\n",
    "- Je možné (a doporučené) libovolně přidávat metody a funkce do třídy `Variable` či do souboru `autograd`, např. pro často opakující se kusy kódu.\n",
    "- Takové metody považujte za privátní a jejich název začínejte jedním podtržítkem (např. `_my_aux_func`), abychom zamezili příp. kolizím jmen pro další cvičení."
   ]
  },
  {
   "cell_type": "markdown",
   "id": "1079b6de",
   "metadata": {},
   "source": [
    "### TODO: implementujte metody [`ans.autograd.Variable.__add__`](../ans/autograd.py) a [`ans.autograd.Variable.__radd__`](../ans/autograd.py)"
   ]
  },
  {
   "cell_type": "code",
   "execution_count": null,
   "id": "fdd2a332",
   "metadata": {},
   "outputs": [],
   "source": [
    "test_autograd.TestAddTensors.eval()"
   ]
  },
  {
   "cell_type": "markdown",
   "id": "54985e6c",
   "metadata": {},
   "source": [
    "### TODO: implementujte metody [`ans.autograd.Variable.__sub__`](../ans/autograd.py) a [`ans.autograd.Variable.__rsub__`](../ans/autograd.py)"
   ]
  },
  {
   "cell_type": "code",
   "execution_count": null,
   "id": "d10ab784",
   "metadata": {},
   "outputs": [],
   "source": [
    "test_autograd.TestSubTensors.eval()"
   ]
  },
  {
   "cell_type": "markdown",
   "id": "139d6afc",
   "metadata": {},
   "source": [
    "### TODO: implementujte metody [`ans.autograd.Variable.__mul__`](../ans/autograd.py) a [`ans.autograd.Variable.__rmul__`](../ans/autograd.py)"
   ]
  },
  {
   "cell_type": "code",
   "execution_count": null,
   "id": "fca097e2",
   "metadata": {},
   "outputs": [],
   "source": [
    "test_autograd.TestMulTensors.eval()"
   ]
  },
  {
   "cell_type": "markdown",
   "id": "15a5fb72",
   "metadata": {},
   "source": [
    "### TODO: implementujte metody [`ans.autograd.Variable.__truediv__`](../ans/autograd.py) a [`ans.autograd.Variable.__rtruediv__`](../ans/autograd.py)"
   ]
  },
  {
   "cell_type": "code",
   "execution_count": null,
   "id": "ecf7f621",
   "metadata": {},
   "outputs": [],
   "source": [
    "test_autograd.TestDivTensors.eval()"
   ]
  },
  {
   "cell_type": "markdown",
   "id": "6d0eb13e-9c5b-46e4-9d26-c82bc9b7ff48",
   "metadata": {},
   "source": [
    "# Zpětná propagace"
   ]
  },
  {
   "cell_type": "markdown",
   "id": "816b2b16-8858-4f7d-a60e-df2c6fb80696",
   "metadata": {},
   "source": [
    "- Zpětnou propagaci, tj. výpočet gradientů na všechny vstupy libovolně složité funkce sestávající z operací výše, bude implementovat metoda `Variable.backprop`.\n",
    "- Bude mít tedy obdobnou funkci jako metoda `torch.Tensor.backward` v PyTorchi, tzn. vyplní atribut `grad` správně vypočteným gradientem pro všechny proměnné předcházející v grafu proměnnou, ze které jsme `backprop` zavolali.\n",
    "- Princip je vysvětlen v notebooku [pytorch_autograd](../notebooks/pytorch_autograd.ipynb).\n",
    "- Jeden z možných postupů implementace je v sekci *\"Reverzní automatické derivování\"* v přednášce [ans-03-backprop](../slides/ans-03-backprop.pdf) (slide 57).\n",
    "- Pro splnění testů je důležité, aby\n",
    "  - seděly vypočtené gradienty a to *pro všechny proměnné v grafu*, nejen ty na začátku;\n",
    "  - při zpětném průchodu grafem byla funkce pro výpočet lokálního řetízkového pravidla `grad_fn` pro každý uzel zavolána max. jednou. Nestačí tedy depth-first procházení grafu."
   ]
  },
  {
   "cell_type": "markdown",
   "id": "ea269195-3d21-4c68-931c-9c218cba1cce",
   "metadata": {},
   "source": [
    "### TODO: implementujte metodu [`ans.autograd.Variable.backprop`](../ans/autograd.py)"
   ]
  },
  {
   "cell_type": "code",
   "execution_count": null,
   "id": "24675503",
   "metadata": {},
   "outputs": [],
   "source": [
    "test_autograd.TestBackprop.eval()"
   ]
  }
 ],
 "metadata": {
  "kernelspec": {
   "display_name": "ans24",
   "language": "python",
   "name": "python3"
  },
  "language_info": {
   "codemirror_mode": {
    "name": "ipython",
    "version": 3
   },
   "file_extension": ".py",
   "mimetype": "text/x-python",
   "name": "python",
   "nbconvert_exporter": "python",
   "pygments_lexer": "ipython3",
   "version": "3.11.9"
  },
  "toc-autonumbering": false,
  "toc-showmarkdowntxt": false,
  "toc-showtags": true
 },
 "nbformat": 4,
 "nbformat_minor": 5
}
